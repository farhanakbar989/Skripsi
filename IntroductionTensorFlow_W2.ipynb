{
  "nbformat": 4,
  "nbformat_minor": 0,
  "metadata": {
    "colab": {
      "name": "IntroductionTensorFlow  W2.ipynb",
      "provenance": [],
      "authorship_tag": "ABX9TyNRHgGythpfch3MU7/kp84Q",
      "include_colab_link": true
    },
    "kernelspec": {
      "name": "python3",
      "display_name": "Python 3"
    },
    "language_info": {
      "name": "python"
    }
  },
  "cells": [
    {
      "cell_type": "markdown",
      "metadata": {
        "id": "view-in-github",
        "colab_type": "text"
      },
      "source": [
        "<a href=\"https://colab.research.google.com/github/farhanakbar989/Skripsi/blob/main/IntroductionTensorFlow_W2.ipynb\" target=\"_parent\"><img src=\"https://colab.research.google.com/assets/colab-badge.svg\" alt=\"Open In Colab\"/></a>"
      ]
    },
    {
      "cell_type": "markdown",
      "metadata": {
        "id": "HEbx63M5o0qa"
      },
      "source": [
        "**Keterangan Labels**\n",
        "\n",
        "![image.png](data:image/png;base64,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)"
      ]
    },
    {
      "cell_type": "code",
      "metadata": {
        "colab": {
          "base_uri": "https://localhost:8080/"
        },
        "id": "WrO6-GNvAOD4",
        "outputId": "82564318-34c6-4893-a54c-563e9906d8d4"
      },
      "source": [
        "!pip install tensorflow==2.5.0"
      ],
      "execution_count": null,
      "outputs": [
        {
          "output_type": "stream",
          "name": "stdout",
          "text": [
            "Collecting tensorflow==2.5.0\n",
            "  Downloading tensorflow-2.5.0-cp37-cp37m-manylinux2010_x86_64.whl (454.3 MB)\n",
            "\u001b[K     |████████████████████████████████| 454.3 MB 17 kB/s \n",
            "\u001b[?25hRequirement already satisfied: numpy~=1.19.2 in /usr/local/lib/python3.7/dist-packages (from tensorflow==2.5.0) (1.19.5)\n",
            "Requirement already satisfied: typing-extensions~=3.7.4 in /usr/local/lib/python3.7/dist-packages (from tensorflow==2.5.0) (3.7.4.3)\n",
            "Requirement already satisfied: flatbuffers~=1.12.0 in /usr/local/lib/python3.7/dist-packages (from tensorflow==2.5.0) (1.12)\n",
            "Requirement already satisfied: wrapt~=1.12.1 in /usr/local/lib/python3.7/dist-packages (from tensorflow==2.5.0) (1.12.1)\n",
            "Requirement already satisfied: wheel~=0.35 in /usr/local/lib/python3.7/dist-packages (from tensorflow==2.5.0) (0.37.0)\n",
            "Requirement already satisfied: h5py~=3.1.0 in /usr/local/lib/python3.7/dist-packages (from tensorflow==2.5.0) (3.1.0)\n",
            "Requirement already satisfied: protobuf>=3.9.2 in /usr/local/lib/python3.7/dist-packages (from tensorflow==2.5.0) (3.17.3)\n",
            "Requirement already satisfied: google-pasta~=0.2 in /usr/local/lib/python3.7/dist-packages (from tensorflow==2.5.0) (0.2.0)\n",
            "Requirement already satisfied: six~=1.15.0 in /usr/local/lib/python3.7/dist-packages (from tensorflow==2.5.0) (1.15.0)\n",
            "Requirement already satisfied: termcolor~=1.1.0 in /usr/local/lib/python3.7/dist-packages (from tensorflow==2.5.0) (1.1.0)\n",
            "Requirement already satisfied: opt-einsum~=3.3.0 in /usr/local/lib/python3.7/dist-packages (from tensorflow==2.5.0) (3.3.0)\n",
            "Requirement already satisfied: tensorboard~=2.5 in /usr/local/lib/python3.7/dist-packages (from tensorflow==2.5.0) (2.6.0)\n",
            "Requirement already satisfied: astunparse~=1.6.3 in /usr/local/lib/python3.7/dist-packages (from tensorflow==2.5.0) (1.6.3)\n",
            "Collecting tensorflow-estimator<2.6.0,>=2.5.0rc0\n",
            "  Downloading tensorflow_estimator-2.5.0-py2.py3-none-any.whl (462 kB)\n",
            "\u001b[K     |████████████████████████████████| 462 kB 36.0 MB/s \n",
            "\u001b[?25hRequirement already satisfied: gast==0.4.0 in /usr/local/lib/python3.7/dist-packages (from tensorflow==2.5.0) (0.4.0)\n",
            "Collecting keras-nightly~=2.5.0.dev\n",
            "  Downloading keras_nightly-2.5.0.dev2021032900-py2.py3-none-any.whl (1.2 MB)\n",
            "\u001b[K     |████████████████████████████████| 1.2 MB 36.1 MB/s \n",
            "\u001b[?25hRequirement already satisfied: absl-py~=0.10 in /usr/local/lib/python3.7/dist-packages (from tensorflow==2.5.0) (0.12.0)\n",
            "Requirement already satisfied: keras-preprocessing~=1.1.2 in /usr/local/lib/python3.7/dist-packages (from tensorflow==2.5.0) (1.1.2)\n",
            "Collecting grpcio~=1.34.0\n",
            "  Downloading grpcio-1.34.1-cp37-cp37m-manylinux2014_x86_64.whl (4.0 MB)\n",
            "\u001b[K     |████████████████████████████████| 4.0 MB 48.4 MB/s \n",
            "\u001b[?25hRequirement already satisfied: cached-property in /usr/local/lib/python3.7/dist-packages (from h5py~=3.1.0->tensorflow==2.5.0) (1.5.2)\n",
            "Requirement already satisfied: werkzeug>=0.11.15 in /usr/local/lib/python3.7/dist-packages (from tensorboard~=2.5->tensorflow==2.5.0) (1.0.1)\n",
            "Requirement already satisfied: tensorboard-data-server<0.7.0,>=0.6.0 in /usr/local/lib/python3.7/dist-packages (from tensorboard~=2.5->tensorflow==2.5.0) (0.6.1)\n",
            "Requirement already satisfied: setuptools>=41.0.0 in /usr/local/lib/python3.7/dist-packages (from tensorboard~=2.5->tensorflow==2.5.0) (57.4.0)\n",
            "Requirement already satisfied: google-auth<2,>=1.6.3 in /usr/local/lib/python3.7/dist-packages (from tensorboard~=2.5->tensorflow==2.5.0) (1.35.0)\n",
            "Requirement already satisfied: google-auth-oauthlib<0.5,>=0.4.1 in /usr/local/lib/python3.7/dist-packages (from tensorboard~=2.5->tensorflow==2.5.0) (0.4.6)\n",
            "Requirement already satisfied: markdown>=2.6.8 in /usr/local/lib/python3.7/dist-packages (from tensorboard~=2.5->tensorflow==2.5.0) (3.3.4)\n",
            "Requirement already satisfied: requests<3,>=2.21.0 in /usr/local/lib/python3.7/dist-packages (from tensorboard~=2.5->tensorflow==2.5.0) (2.23.0)\n",
            "Requirement already satisfied: tensorboard-plugin-wit>=1.6.0 in /usr/local/lib/python3.7/dist-packages (from tensorboard~=2.5->tensorflow==2.5.0) (1.8.0)\n",
            "Requirement already satisfied: pyasn1-modules>=0.2.1 in /usr/local/lib/python3.7/dist-packages (from google-auth<2,>=1.6.3->tensorboard~=2.5->tensorflow==2.5.0) (0.2.8)\n",
            "Requirement already satisfied: cachetools<5.0,>=2.0.0 in /usr/local/lib/python3.7/dist-packages (from google-auth<2,>=1.6.3->tensorboard~=2.5->tensorflow==2.5.0) (4.2.4)\n",
            "Requirement already satisfied: rsa<5,>=3.1.4 in /usr/local/lib/python3.7/dist-packages (from google-auth<2,>=1.6.3->tensorboard~=2.5->tensorflow==2.5.0) (4.7.2)\n",
            "Requirement already satisfied: requests-oauthlib>=0.7.0 in /usr/local/lib/python3.7/dist-packages (from google-auth-oauthlib<0.5,>=0.4.1->tensorboard~=2.5->tensorflow==2.5.0) (1.3.0)\n",
            "Requirement already satisfied: importlib-metadata in /usr/local/lib/python3.7/dist-packages (from markdown>=2.6.8->tensorboard~=2.5->tensorflow==2.5.0) (4.8.1)\n",
            "Requirement already satisfied: pyasn1<0.5.0,>=0.4.6 in /usr/local/lib/python3.7/dist-packages (from pyasn1-modules>=0.2.1->google-auth<2,>=1.6.3->tensorboard~=2.5->tensorflow==2.5.0) (0.4.8)\n",
            "Requirement already satisfied: idna<3,>=2.5 in /usr/local/lib/python3.7/dist-packages (from requests<3,>=2.21.0->tensorboard~=2.5->tensorflow==2.5.0) (2.10)\n",
            "Requirement already satisfied: urllib3!=1.25.0,!=1.25.1,<1.26,>=1.21.1 in /usr/local/lib/python3.7/dist-packages (from requests<3,>=2.21.0->tensorboard~=2.5->tensorflow==2.5.0) (1.24.3)\n",
            "Requirement already satisfied: certifi>=2017.4.17 in /usr/local/lib/python3.7/dist-packages (from requests<3,>=2.21.0->tensorboard~=2.5->tensorflow==2.5.0) (2021.5.30)\n",
            "Requirement already satisfied: chardet<4,>=3.0.2 in /usr/local/lib/python3.7/dist-packages (from requests<3,>=2.21.0->tensorboard~=2.5->tensorflow==2.5.0) (3.0.4)\n",
            "Requirement already satisfied: oauthlib>=3.0.0 in /usr/local/lib/python3.7/dist-packages (from requests-oauthlib>=0.7.0->google-auth-oauthlib<0.5,>=0.4.1->tensorboard~=2.5->tensorflow==2.5.0) (3.1.1)\n",
            "Requirement already satisfied: zipp>=0.5 in /usr/local/lib/python3.7/dist-packages (from importlib-metadata->markdown>=2.6.8->tensorboard~=2.5->tensorflow==2.5.0) (3.6.0)\n",
            "Installing collected packages: grpcio, tensorflow-estimator, keras-nightly, tensorflow\n",
            "  Attempting uninstall: grpcio\n",
            "    Found existing installation: grpcio 1.41.0\n",
            "    Uninstalling grpcio-1.41.0:\n",
            "      Successfully uninstalled grpcio-1.41.0\n",
            "  Attempting uninstall: tensorflow-estimator\n",
            "    Found existing installation: tensorflow-estimator 2.6.0\n",
            "    Uninstalling tensorflow-estimator-2.6.0:\n",
            "      Successfully uninstalled tensorflow-estimator-2.6.0\n",
            "  Attempting uninstall: tensorflow\n",
            "    Found existing installation: tensorflow 2.6.0\n",
            "    Uninstalling tensorflow-2.6.0:\n",
            "      Successfully uninstalled tensorflow-2.6.0\n",
            "Successfully installed grpcio-1.34.1 keras-nightly-2.5.0.dev2021032900 tensorflow-2.5.0 tensorflow-estimator-2.5.0\n"
          ]
        }
      ]
    },
    {
      "cell_type": "code",
      "metadata": {
        "colab": {
          "base_uri": "https://localhost:8080/"
        },
        "id": "GefqFrRrAw1b",
        "outputId": "e08eb80a-a812-4621-cbb7-64fbbcaf778f"
      },
      "source": [
        "import tensorflow as tf\n",
        "print(tf.__version__)"
      ],
      "execution_count": null,
      "outputs": [
        {
          "output_type": "stream",
          "name": "stdout",
          "text": [
            "2.5.0\n"
          ]
        }
      ]
    },
    {
      "cell_type": "code",
      "metadata": {
        "id": "rKJK7F6QA96S"
      },
      "source": [
        "mnist = tf.keras.datasets.fashion_mnist #Membuat Mnist datasets siap pada keras"
      ],
      "execution_count": null,
      "outputs": []
    },
    {
      "cell_type": "code",
      "metadata": {
        "id": "5A9JAYa6BLPq"
      },
      "source": [
        "(training_images, training_labels), (test_images, test_labels) = mnist.load_data()\n",
        "#Ketika mengeload data maka akan mendapatkan dua set dari dua list yaitu training dan testing\n",
        "#dari grafik yang mengandung item baju dan labelnya."
      ],
      "execution_count": null,
      "outputs": []
    },
    {
      "cell_type": "code",
      "metadata": {
        "colab": {
          "base_uri": "https://localhost:8080/",
          "height": 768
        },
        "id": "QEAC1ldxBjdN",
        "outputId": "38b8ebe1-65a4-4d16-af59-fdc64fd5a6f0"
      },
      "source": [
        "import numpy as np\n",
        "np.set_printoptions(linewidth=200)\n",
        "import matplotlib.pyplot as plt\n",
        "plt.imshow(training_images[0])\n",
        "print(training_labels[0])\n",
        "print(training_images[0])\n",
        "#Bagaimana cara nilai gambarnya terlihat ? perlu kita print dan label training yang dilihat.\n",
        "#Sehingga perlu dilihat perbedaan indeks pada array. Contohnya berbeda indeks antara 42 dengan 0."
      ],
      "execution_count": null,
      "outputs": [
        {
          "output_type": "stream",
          "name": "stdout",
          "text": [
            "9\n",
            "[[  0   0   0   0   0   0   0   0   0   0   0   0   0   0   0   0   0   0   0   0   0   0   0   0   0   0   0   0]\n",
            " [  0   0   0   0   0   0   0   0   0   0   0   0   0   0   0   0   0   0   0   0   0   0   0   0   0   0   0   0]\n",
            " [  0   0   0   0   0   0   0   0   0   0   0   0   0   0   0   0   0   0   0   0   0   0   0   0   0   0   0   0]\n",
            " [  0   0   0   0   0   0   0   0   0   0   0   0   1   0   0  13  73   0   0   1   4   0   0   0   0   1   1   0]\n",
            " [  0   0   0   0   0   0   0   0   0   0   0   0   3   0  36 136 127  62  54   0   0   0   1   3   4   0   0   3]\n",
            " [  0   0   0   0   0   0   0   0   0   0   0   0   6   0 102 204 176 134 144 123  23   0   0   0   0  12  10   0]\n",
            " [  0   0   0   0   0   0   0   0   0   0   0   0   0   0 155 236 207 178 107 156 161 109  64  23  77 130  72  15]\n",
            " [  0   0   0   0   0   0   0   0   0   0   0   1   0  69 207 223 218 216 216 163 127 121 122 146 141  88 172  66]\n",
            " [  0   0   0   0   0   0   0   0   0   1   1   1   0 200 232 232 233 229 223 223 215 213 164 127 123 196 229   0]\n",
            " [  0   0   0   0   0   0   0   0   0   0   0   0   0 183 225 216 223 228 235 227 224 222 224 221 223 245 173   0]\n",
            " [  0   0   0   0   0   0   0   0   0   0   0   0   0 193 228 218 213 198 180 212 210 211 213 223 220 243 202   0]\n",
            " [  0   0   0   0   0   0   0   0   0   1   3   0  12 219 220 212 218 192 169 227 208 218 224 212 226 197 209  52]\n",
            " [  0   0   0   0   0   0   0   0   0   0   6   0  99 244 222 220 218 203 198 221 215 213 222 220 245 119 167  56]\n",
            " [  0   0   0   0   0   0   0   0   0   4   0   0  55 236 228 230 228 240 232 213 218 223 234 217 217 209  92   0]\n",
            " [  0   0   1   4   6   7   2   0   0   0   0   0 237 226 217 223 222 219 222 221 216 223 229 215 218 255  77   0]\n",
            " [  0   3   0   0   0   0   0   0   0  62 145 204 228 207 213 221 218 208 211 218 224 223 219 215 224 244 159   0]\n",
            " [  0   0   0   0  18  44  82 107 189 228 220 222 217 226 200 205 211 230 224 234 176 188 250 248 233 238 215   0]\n",
            " [  0  57 187 208 224 221 224 208 204 214 208 209 200 159 245 193 206 223 255 255 221 234 221 211 220 232 246   0]\n",
            " [  3 202 228 224 221 211 211 214 205 205 205 220 240  80 150 255 229 221 188 154 191 210 204 209 222 228 225   0]\n",
            " [ 98 233 198 210 222 229 229 234 249 220 194 215 217 241  65  73 106 117 168 219 221 215 217 223 223 224 229  29]\n",
            " [ 75 204 212 204 193 205 211 225 216 185 197 206 198 213 240 195 227 245 239 223 218 212 209 222 220 221 230  67]\n",
            " [ 48 203 183 194 213 197 185 190 194 192 202 214 219 221 220 236 225 216 199 206 186 181 177 172 181 205 206 115]\n",
            " [  0 122 219 193 179 171 183 196 204 210 213 207 211 210 200 196 194 191 195 191 198 192 176 156 167 177 210  92]\n",
            " [  0   0  74 189 212 191 175 172 175 181 185 188 189 188 193 198 204 209 210 210 211 188 188 194 192 216 170   0]\n",
            " [  2   0   0   0  66 200 222 237 239 242 246 243 244 221 220 193 191 179 182 182 181 176 166 168  99  58   0   0]\n",
            " [  0   0   0   0   0   0   0  40  61  44  72  41  35   0   0   0   0   0   0   0   0   0   0   0   0   0   0   0]\n",
            " [  0   0   0   0   0   0   0   0   0   0   0   0   0   0   0   0   0   0   0   0   0   0   0   0   0   0   0   0]\n",
            " [  0   0   0   0   0   0   0   0   0   0   0   0   0   0   0   0   0   0   0   0   0   0   0   0   0   0   0   0]]\n"
          ]
        },
        {
          "output_type": "display_data",
          "data": {
            "image/png": "[encoded data removed]",
            "text/plain": [
              "<Figure size 432x288 with 1 Axes>"
            ]
          },
          "metadata": {
            "needs_background": "light"
          }
        }
      ]
    },
    {
      "cell_type": "code",
      "metadata": {
        "id": "BBlH9xx9Ck8M"
      },
      "source": [
        "training_images = training_images / 255.0\n",
        "test_images = test_images / 255.0\n",
        "#Karena nilainya antaara 0 sampai 200, maka perlu dinormalisasi menjadi 0 dan 1."
      ],
      "execution_count": null,
      "outputs": []
    },
    {
      "cell_type": "code",
      "metadata": {
        "id": "IOuUSbrOCvo6"
      },
      "source": [
        "model = tf.keras.models.Sequential([tf.keras.layers.Flatten(), \n",
        "                                    tf.keras.layers.Dense(128, activation=tf.nn.relu), \n",
        "                                    tf.keras.layers.Dense(10, activation=tf.nn.softmax)])\n",
        "\n",
        "#Sequential = mendefinisikan layar yang berderet pada neural network\n",
        "#Flatten = 1 kotak diubah menjadi 1 set dimensi.\n",
        "#Dense = menambahkan layer pada neuron\n",
        "#Relu = Jika X>0 maka akan menjadi X, dan lainnya akan menjadi 0.\n",
        "#Softmax = mengeset value secara efektif untuk memilih yang paling besar."
      ],
      "execution_count": null,
      "outputs": []
    },
    {
      "cell_type": "code",
      "metadata": {
        "colab": {
          "base_uri": "https://localhost:8080/"
        },
        "id": "u8-XdDXKDvFx",
        "outputId": "774a228f-b875-4b70-f7e4-51abe2396620"
      },
      "source": [
        "model.compile(optimizer = tf.optimizers.Adam(), #fungsi optimizer untuk membuat tebakan baru\n",
        "              loss = 'sparse_categorical_crossentropy',  # Fungsi loss memiliki fungsi untuk mengukur seberapa benar tebakan terhadap jawaban benar\n",
        "              metrics=['accuracy'])\n",
        "\n",
        "model.fit(training_images, training_labels, epochs=5) #model fit yaitu perintah untuk membuat sistem belajar hubungan\n",
        "\n"
      ],
      "execution_count": null,
      "outputs": [
        {
          "output_type": "stream",
          "name": "stdout",
          "text": [
            "Epoch 1/5\n",
            "1875/1875 [==============================] - 7s 4ms/step - loss: 0.5017 - accuracy: 0.8238\n",
            "Epoch 2/5\n",
            "1875/1875 [==============================] - 7s 4ms/step - loss: 0.3744 - accuracy: 0.8657\n",
            "Epoch 3/5\n",
            "1875/1875 [==============================] - 7s 4ms/step - loss: 0.3349 - accuracy: 0.8773\n",
            "Epoch 4/5\n",
            "1875/1875 [==============================] - 6s 3ms/step - loss: 0.3123 - accuracy: 0.8844\n",
            "Epoch 5/5\n",
            "1875/1875 [==============================] - 7s 4ms/step - loss: 0.2951 - accuracy: 0.8904\n"
          ]
        },
        {
          "output_type": "execute_result",
          "data": {
            "text/plain": [
              "<tensorflow.python.keras.callbacks.History at 0x7f138707c250>"
            ]
          },
          "metadata": {},
          "execution_count": 15
        }
      ]
    },
    {
      "cell_type": "code",
      "metadata": {
        "colab": {
          "base_uri": "https://localhost:8080/"
        },
        "id": "7SWFmKlYD-1O",
        "outputId": "84354c9a-82bf-4673-b479-dd98ff94bc59"
      },
      "source": [
        "model.evaluate(test_images, test_labels) #Mengevaluasi gambar"
      ],
      "execution_count": null,
      "outputs": [
        {
          "output_type": "stream",
          "name": "stdout",
          "text": [
            "313/313 [==============================] - 1s 2ms/step - loss: 0.3413 - accuracy: 0.8781\n"
          ]
        },
        {
          "output_type": "execute_result",
          "data": {
            "text/plain": [
              "[0.3412730097770691, 0.8780999779701233]"
            ]
          },
          "metadata": {},
          "execution_count": 16
        }
      ]
    },
    {
      "cell_type": "markdown",
      "metadata": {
        "id": "ismWaDRYMTCR"
      },
      "source": [
        "Exercise 1\n",
        "\n",
        "---\n",
        "\n",
        "For this first exercise run the below code: It creates a set of classifications for each of the test images, and then prints the first entry in the classifications. The output, after you run it is a list of numbers. Why do you think this is, and what do those numbers represent?"
      ]
    },
    {
      "cell_type": "code",
      "metadata": {
        "colab": {
          "base_uri": "https://localhost:8080/"
        },
        "id": "COS91NStMZj7",
        "outputId": "e8ba1614-ef6d-4c07-b3d4-a6afd192a9e7"
      },
      "source": [
        "classifications = model.predict(test_images)\n",
        "\n",
        "print(classifications[0])"
      ],
      "execution_count": null,
      "outputs": [
        {
          "output_type": "stream",
          "name": "stdout",
          "text": [
            "[1.1025264e-07 8.6363436e-08 2.3724338e-08 2.4286450e-07 8.1234867e-07 8.1832362e-03 1.4799051e-07 1.8275846e-02 1.6372029e-07 9.7353935e-01]\n"
          ]
        }
      ]
    },
    {
      "cell_type": "code",
      "metadata": {
        "colab": {
          "base_uri": "https://localhost:8080/"
        },
        "id": "V3Qa1HzkMm3U",
        "outputId": "b45752ce-d8c2-4075-bbed-2d9535fed853"
      },
      "source": [
        "print(test_labels[0])"
      ],
      "execution_count": null,
      "outputs": [
        {
          "output_type": "stream",
          "name": "stdout",
          "text": [
            "9\n"
          ]
        }
      ]
    },
    {
      "cell_type": "markdown",
      "metadata": {
        "id": "RksssF4JMwHH"
      },
      "source": [
        "**Question 1**\n",
        "\n",
        "**What does this list represent?**\n",
        "1. It's 10 random meaningless values\n",
        "2. It's the first 10 classifications that the computer made\n",
        "3. It's the probability that this item is each of the 10 classes\n",
        "\n",
        "**Answer = 3**\n",
        "\n",
        "The output of the model is a list of 10 numbers. These numbers are a probability that the value being classified is the corresponding value (https://github.com/zalandoresearch/fashion-mnist#labels), i.e. the first value in the list is the probability that the image is of a '0' (T-shirt/top), the next is a '1' (Trouser) etc. Notice that they are all VERY LOW probabilities.\n",
        "\n",
        "For index 9 (Ankle boot), the probability was in the 90's, i.e. the neural network is telling us that the image is most likely an ankle boot."
      ]
    },
    {
      "cell_type": "markdown",
      "metadata": {
        "id": "4cyGw1MfNTuY"
      },
      "source": [
        "**Question 2**\n",
        "\n",
        "**How do you know that this list tells you that the item is an ankle boot?**\n",
        "\n",
        "1. There's not enough information to answer that question\n",
        "2. The 10th element on the list is the biggest, and the ankle boot is labelled 9\n",
        "3. The ankle boot is label 9, and there are 0->9 elements in the list\n",
        "\n",
        "**Answer : 2**\n",
        "\n",
        "The correct answer is (2). Both the list and the labels are 0 based, so the ankle boot having label 9 means that it is the 10th of the 10 classes. The list having the 10th element being the highest value means that the Neural Network has predicted that the item it is classifying is most likely an ankle boot"
      ]
    },
    {
      "cell_type": "markdown",
      "metadata": {
        "id": "6bYs_jO8OaH3"
      },
      "source": [
        "Exercise 2\n",
        "\n",
        "---\n",
        "\n",
        "Let's now look at the layers in your model. Experiment with different values for the dense layer with 512 neurons. What different results do you get for loss, training time etc? Why do you think that's the case?"
      ]
    },
    {
      "cell_type": "code",
      "metadata": {
        "colab": {
          "base_uri": "https://localhost:8080/"
        },
        "id": "YWyakUtYOqTJ",
        "outputId": "5d5c15c8-a245-4418-ff42-1ef08fbeae2f"
      },
      "source": [
        "mnist = tf.keras.datasets.mnist\n",
        "\n",
        "(training_images,training_labels), (test_images, test_labels) = mnist.load_data()\n",
        "\n",
        "training_images = training_images/255.0\n",
        "test_images = test_images/255.0\n",
        "\n",
        "model = tf.keras.models.Sequential([tf.keras.layers.Flatten(),\n",
        "                                    tf.keras.layers.Dense(1024, activation=tf.nn.relu),\n",
        "                                    tf.keras.layers.Dense(10, activation=tf.nn.softmax)])\n",
        "model.compile(optimizer='adam',\n",
        "               loss = 'sparse_categorical_crossentropy')\n",
        "model.fit(training_images, training_labels, epochs=5)\n",
        "model.evaluate(test_images, test_labels)\n",
        "classifications = model.predict(test_images)\n",
        "print(classifications[0])\n",
        "print(test_labels[0])"
      ],
      "execution_count": null,
      "outputs": [
        {
          "output_type": "stream",
          "name": "stdout",
          "text": [
            "Epoch 1/5\n",
            "1875/1875 [==============================] - 20s 10ms/step - loss: 0.1863\n",
            "Epoch 2/5\n",
            "1875/1875 [==============================] - 19s 10ms/step - loss: 0.0750\n",
            "Epoch 3/5\n",
            "1875/1875 [==============================] - 19s 10ms/step - loss: 0.0479\n",
            "Epoch 4/5\n",
            "1875/1875 [==============================] - 19s 10ms/step - loss: 0.0342\n",
            "Epoch 5/5\n",
            "1875/1875 [==============================] - 19s 10ms/step - loss: 0.0250\n",
            "313/313 [==============================] - 2s 5ms/step - loss: 0.0812\n",
            "[1.4420224e-09 8.0585527e-10 1.6006529e-08 7.1576583e-06 1.2635153e-13 7.6446005e-10 4.1453786e-14 9.9999285e-01 6.0855054e-09 2.7275476e-08]\n",
            "7\n"
          ]
        }
      ]
    },
    {
      "cell_type": "markdown",
      "metadata": {
        "id": "iuJtu-4rg4n2"
      },
      "source": [
        "**Question 1**\n",
        "\n",
        "**Increase to 1024 Neurons -- What's the impact?**\n",
        "\n",
        "1. Training takes longer, but is more accurate\n",
        "2. Training takes longer, but no impact on accuracy\n",
        "3. Training takes the same time, but is more accurate\n",
        "\n",
        "**Answer : 1**\n",
        "\n",
        "The correct answer is (1) by adding more Neurons we have to do more calculations, slowing down the process, but in this case they have a good impact -- we do get more accurate. That doesn't mean it's always a case of 'more is better', you can hit the law of diminishing returns very quickly!"
      ]
    },
    {
      "cell_type": "markdown",
      "metadata": {
        "id": "N7n1uSQZhV8w"
      },
      "source": [
        "Exercise 3\n",
        "\n",
        "---\n",
        "\n",
        "**What would happen if you remove the Flatten() layer. Why do you think that's the case?**\n",
        "\n",
        "**Answer :**\n",
        "\n",
        "You get an error about the shape of the data. It may seem vague right now, but it reinforces the rule of thumb that the first layer in your network should be the same shape as your data. Right now our data is 28x28 images, and 28 layers of 28 neurons would be infeasible, so it makes more sense to 'flatten' that 28,28 into a 784x1. Instead of writng all the code to handle that ourselves, we add the Flatten() layer at the begining, and when the arrays are loaded into the model later, they'll automatically be flattened for us."
      ]
    },
    {
      "cell_type": "code",
      "metadata": {
        "colab": {
          "base_uri": "https://localhost:8080/"
        },
        "id": "I7Go0cN3h6jm",
        "outputId": "ac80b4d5-caab-4f6c-cbc4-3fd7049a6af9"
      },
      "source": [
        "mnist = tf.keras.datasets.mnist\n",
        "\n",
        "(training_images,training_labels), (test_images, test_labels) = mnist.load_data()\n",
        "\n",
        "training_images = training_images/255.0\n",
        "test_images = test_images/255.0\n",
        "\n",
        "model = tf.keras.models.Sequential([tf.keras.layers.Flatten(),#Try removing this layer\n",
        "                                    tf.keras.layers.Dense(64, activation=tf.nn.relu),\n",
        "                                    tf.keras.layers.Dense(10, activation=tf.nn.softmax)])\n",
        "model.compile(optimizer = 'adam',\n",
        "              loss = 'sparse_categorical_crossentropy')\n",
        "model.fit(training_images, training_labels, epochs = 5)\n",
        "\n",
        "model.evaluate(test_images, test_labels)\n",
        "\n",
        "classifications = model.predict(test_images)\n",
        "\n",
        "print(classifications[0])\n",
        "print(test_labels[0])\n"
      ],
      "execution_count": 46,
      "outputs": [
        {
          "output_type": "stream",
          "name": "stdout",
          "text": [
            "Epoch 1/5\n",
            "1875/1875 [==============================] - 4s 2ms/step - loss: 0.3027\n",
            "Epoch 2/5\n",
            "1875/1875 [==============================] - 4s 2ms/step - loss: 0.1468\n",
            "Epoch 3/5\n",
            "1875/1875 [==============================] - 4s 2ms/step - loss: 0.1079\n",
            "Epoch 4/5\n",
            "1875/1875 [==============================] - 4s 2ms/step - loss: 0.0850\n",
            "Epoch 5/5\n",
            "1875/1875 [==============================] - 4s 2ms/step - loss: 0.0714\n",
            "313/313 [==============================] - 0s 1ms/step - loss: 0.0941\n",
            "[2.2249358e-06 3.7200385e-09 3.6248085e-04 1.0462097e-03 1.1074739e-08 6.8010763e-07 2.5030581e-12 9.9848551e-01 3.1021380e-05 7.1838622e-05]\n",
            "7\n"
          ]
        }
      ]
    },
    {
      "cell_type": "markdown",
      "metadata": {
        "id": "AoKy4S9Ikw3I"
      },
      "source": [
        "Exercise 4\n",
        "\n",
        "\n",
        "---\n",
        "Consider the final (output) layers. Why are there 10 of them? What would happen if you had a different amount than 10? For example, try training the network with 5.\n",
        "\n",
        "**Answer :**\n",
        "\n",
        "You get an error as soon as it finds an unexpected value. Another rule of thumb -- the number of neurons in the last layer should match the number of classes you are classifying for. In this case it's the digits 0-9, so there are 10 of them, hence you should have 10 neurons in your final layer.\n",
        "\n",
        "***10 karena dari banyak kelasnya***\n",
        "\n",
        "*Jika tidak sesuai dengan banyak kelasnya maka nanti bakalan keganggu pas lagi epochs*"
      ]
    },
    {
      "cell_type": "code",
      "metadata": {
        "colab": {
          "base_uri": "https://localhost:8080/"
        },
        "id": "0TKL6tq9l2Cb",
        "outputId": "55a57242-7110-4b56-f4d3-2b6a84dbdf31"
      },
      "source": [
        "mnist = tf.keras.datasets.mnist\n",
        "\n",
        "(training_images, training_labels) , (test_images, test_labels) =mnist.load_data()\n",
        "\n",
        "training_images = training_images/255.0\n",
        "test_images = test_images/255.0\n",
        "\n",
        "model = tf.keras.models.Sequential([tf.keras.layers.Flatten(),\n",
        "                                    tf.keras.layers.Dense(64, activation=tf.nn.relu),\n",
        "                                    tf.keras.layers.Dense(10, activation=tf.nn.softmax) # Try experimenting with this layer\n",
        "                                  ])\n",
        "\n",
        "model.compile(optimizer = 'adam',\n",
        "              loss = 'sparse_categorical_crossentropy')\n",
        "model.fit(training_images, training_labels, epochs=5)\n",
        "\n",
        "model.evaluate(test_images, test_labels)\n",
        "\n",
        "classifications = model.predict(test_images)\n",
        "\n",
        "print(classifications[0])\n",
        "print(test_labels[0])\n"
      ],
      "execution_count": 45,
      "outputs": [
        {
          "output_type": "stream",
          "name": "stdout",
          "text": [
            "Epoch 1/5\n",
            "1875/1875 [==============================] - 4s 2ms/step - loss: 0.3030\n",
            "Epoch 2/5\n",
            "1875/1875 [==============================] - 4s 2ms/step - loss: 0.1463\n",
            "Epoch 3/5\n",
            "1875/1875 [==============================] - 4s 2ms/step - loss: 0.1062\n",
            "Epoch 4/5\n",
            "1875/1875 [==============================] - 4s 2ms/step - loss: 0.0843\n",
            "Epoch 5/5\n",
            "1875/1875 [==============================] - 4s 2ms/step - loss: 0.0697\n",
            "313/313 [==============================] - 0s 1ms/step - loss: 0.0907\n",
            "[4.8195338e-06 3.0716762e-08 2.0703990e-05 2.5541539e-04 6.7891553e-10 2.3515551e-07 5.3120005e-11 9.9971277e-01 1.2577769e-06 4.7827807e-06]\n",
            "7\n"
          ]
        }
      ]
    },
    {
      "cell_type": "markdown",
      "metadata": {
        "id": "sWcYGFyU_bn5"
      },
      "source": [
        "Exercise 5\n",
        "\n",
        "---\n",
        "Consider the effects of additional layers in the network. What will happen if you add another layer between the one with 512 and the final layer with 10 ?\n",
        "\n",
        "**Answer :**\n",
        "\n",
        "There isn't a significant impact -- because this is relatively simple data. For far more complex data (including color images to be classified as flowers that you'll see in the next lesson), extra layers are often necessary."
      ]
    },
    {
      "cell_type": "code",
      "metadata": {
        "colab": {
          "base_uri": "https://localhost:8080/"
        },
        "id": "bDMnv6cP_2Dr",
        "outputId": "3d6ef99b-5a93-4fbd-cc0e-9282a4454fea"
      },
      "source": [
        "mnist = tf.keras.datasets.mnist\n",
        "\n",
        "(training_images, training_labels) ,  (test_images, test_labels) = mnist.load_data()\n",
        "\n",
        "training_images = training_images/255.0\n",
        "test_images = test_images/255.0\n",
        "\n",
        "model = tf.keras.models.Sequential([tf.keras.layers.Flatten(),\n",
        "                                    # Add a layer here,\n",
        "                                    tf.keras.layers.Dense(256, activation=tf.nn.relu),\n",
        "                                    # Add a layer here\n",
        "                                  ])\n",
        "\n",
        "model.compile(optimizer = 'adam',\n",
        "              loss = 'sparse_categorical_crossentropy')\n",
        "\n",
        "model.fit(training_images, training_labels, epochs=5)\n",
        "\n",
        "model.evaluate(test_images, test_labels)\n",
        "\n",
        "classifications = model.predict(test_images)\n",
        "\n",
        "print(classifications[0])\n",
        "print(test_labels[0])"
      ],
      "execution_count": 44,
      "outputs": [
        {
          "output_type": "stream",
          "name": "stdout",
          "text": [
            "Epoch 1/5\n",
            "1875/1875 [==============================] - 6s 3ms/step - loss: 4.7984\n",
            "Epoch 2/5\n",
            "1875/1875 [==============================] - 6s 3ms/step - loss: 4.8205\n",
            "Epoch 3/5\n",
            "1875/1875 [==============================] - 6s 3ms/step - loss: 4.6442\n",
            "Epoch 4/5\n",
            "1875/1875 [==============================] - 6s 3ms/step - loss: 4.5136\n",
            "Epoch 5/5\n",
            "1875/1875 [==============================] - 6s 3ms/step - loss: 4.5012\n",
            "313/313 [==============================] - 1s 2ms/step - loss: 4.4241\n",
            "[0. 0. 0. 0. 0. 0. 0. 0. 0. 0. 0. 0. 0. 0. 0. 0. 0. 0. 0. 0. 0. 0. 0. 0. 0. 0. 0. 0. 0. 0. 0. 0. 0. 0. 0. 0. 0. 0. 0. 0. 0. 0. 0. 0. 0. 0. 0. 0. 0. 0. 0. 0. 0. 0. 0. 0. 0. 0. 0. 0. 0. 0. 0. 0. 0. 0.\n",
            " 0. 0. 0. 0. 0. 0. 0. 0. 0. 0. 0. 0. 0. 0. 0. 0. 0. 0. 0. 0. 0. 0. 0. 0. 0. 0. 0. 0. 0. 0. 0. 0. 0. 0. 0. 0. 0. 0. 0. 0. 0. 0. 0. 0. 0. 0. 0. 0. 0. 0. 0. 0. 0. 0. 0. 0. 0. 0. 0. 0. 0. 0. 0. 0. 0. 0.\n",
            " 0. 0. 0. 0. 0. 0. 0. 0. 0. 0. 0. 0. 0. 0. 0. 0. 0. 0. 0. 0. 0. 0. 0. 0. 0. 0. 0. 0. 0. 0. 0. 0. 0. 0. 0. 0. 0. 0. 0. 0. 0. 0. 0. 0. 0. 0. 0. 0. 0. 0. 0. 0. 0. 0. 0. 0. 0. 0. 0. 0. 0. 0. 0. 0. 0. 0.\n",
            " 0. 0. 0. 0. 0. 0. 0. 0. 0. 0. 0. 0. 0. 0. 0. 0. 0. 0. 0. 0. 0. 0. 0. 0. 0. 0. 0. 0. 0. 0. 0. 0. 0. 0. 0. 0. 0. 0. 0. 0. 0. 0. 0. 0. 0. 0. 0. 0. 0. 0. 0. 0. 0. 0. 0. 0. 0. 0.]\n",
            "7\n"
          ]
        }
      ]
    },
    {
      "cell_type": "markdown",
      "metadata": {
        "id": "S96xntnxAYOk"
      },
      "source": [
        "Exercise 6\n",
        "\n",
        "---\n",
        "\n",
        "Consider the impact of training for more or less epochs. Why do you think that would be the case?\n",
        "\n",
        "**Answer :**\n",
        "\n",
        "Try 15 epochs -- you'll probably get a model with a much better loss than the one with 5\n",
        "\n",
        "Try 30 epochs -- you might see the loss value stops decreasing, and sometimes increases.\n",
        "\n",
        "This is a side effect of something called 'overfitting' which you can learn about later and it's something you need to keep an eye out for when training neural networks. There's no point in wasting your time training if you aren't improving your loss, right! :)"
      ]
    },
    {
      "cell_type": "code",
      "metadata": {
        "colab": {
          "base_uri": "https://localhost:8080/"
        },
        "id": "rwYb_paLApJS",
        "outputId": "1f01ad32-b36a-40d9-dc64-ba9a03b4bb13"
      },
      "source": [
        "mnist = tf.keras.datasets.mnist\n",
        "\n",
        "(training_images, training_labels) ,  (test_images, test_labels) = mnist.load_data()\n",
        "\n",
        "training_images = training_images/255.0\n",
        "test_images = test_images/255.0\n",
        "\n",
        "model = tf.keras.models.Sequential([tf.keras.layers.Flatten(),\n",
        "                                    tf.keras.layers.Dense(128, activation=tf.nn.relu),\n",
        "                                    tf.keras.layers.Dense(10, activation=tf.nn.softmax)])\n",
        "\n",
        "model.compile(optimizer = 'adam',\n",
        "              loss = 'sparse_categorical_crossentropy')\n",
        "\n",
        "model.fit(training_images, training_labels, epochs=15) # Experiment with the number of epochs\n",
        "\n",
        "model.evaluate(test_images, test_labels)\n",
        "\n",
        "classifications = model.predict(test_images)\n",
        "\n",
        "print(classifications[34])\n",
        "print(test_labels[34])\n"
      ],
      "execution_count": 43,
      "outputs": [
        {
          "output_type": "stream",
          "name": "stdout",
          "text": [
            "Epoch 1/15\n",
            "1875/1875 [==============================] - 4s 2ms/step - loss: 0.2513\n",
            "Epoch 2/15\n",
            "1875/1875 [==============================] - 4s 2ms/step - loss: 0.1097\n",
            "Epoch 3/15\n",
            "1875/1875 [==============================] - 4s 2ms/step - loss: 0.0762\n",
            "Epoch 4/15\n",
            "1875/1875 [==============================] - 4s 2ms/step - loss: 0.0570\n",
            "Epoch 5/15\n",
            "1875/1875 [==============================] - 4s 2ms/step - loss: 0.0444\n",
            "Epoch 6/15\n",
            "1875/1875 [==============================] - 4s 2ms/step - loss: 0.0346\n",
            "Epoch 7/15\n",
            "1875/1875 [==============================] - 4s 2ms/step - loss: 0.0280\n",
            "Epoch 8/15\n",
            "1875/1875 [==============================] - 4s 2ms/step - loss: 0.0232\n",
            "Epoch 9/15\n",
            "1875/1875 [==============================] - 4s 2ms/step - loss: 0.0189\n",
            "Epoch 10/15\n",
            "1875/1875 [==============================] - 4s 2ms/step - loss: 0.0156\n",
            "Epoch 11/15\n",
            "1875/1875 [==============================] - 4s 2ms/step - loss: 0.0139\n",
            "Epoch 12/15\n",
            "1875/1875 [==============================] - 4s 2ms/step - loss: 0.0102\n",
            "Epoch 13/15\n",
            "1875/1875 [==============================] - 4s 2ms/step - loss: 0.0093\n",
            "Epoch 14/15\n",
            "1875/1875 [==============================] - 4s 2ms/step - loss: 0.0094\n",
            "Epoch 15/15\n",
            "1875/1875 [==============================] - 4s 2ms/step - loss: 0.0079\n",
            "313/313 [==============================] - 1s 1ms/step - loss: 0.1084\n",
            "[4.4714021e-18 1.5923796e-14 1.7201714e-10 1.1243337e-09 5.8731873e-22 6.0143700e-22 1.3734651e-23 1.0000000e+00 6.0248193e-14 1.6929485e-12]\n",
            "7\n"
          ]
        }
      ]
    },
    {
      "cell_type": "markdown",
      "metadata": {
        "id": "2A9tln_KBfQa"
      },
      "source": [
        "Exercise 7\n",
        "\n",
        "---\n",
        "Before you trained, you normalized the data, going from values that were 0-255 to values that were 0-1. What would be the impact of removing that? Here's the complete code to give it a try. Why do you think you get different results?\n"
      ]
    },
    {
      "cell_type": "code",
      "metadata": {
        "colab": {
          "base_uri": "https://localhost:8080/"
        },
        "id": "RKansEukCT6M",
        "outputId": "1401d498-83fd-4bb1-9e30-9d32ed5e2d10"
      },
      "source": [
        "mnist = tf.keras.datasets.mnist\n",
        "(training_images, training_labels), (test_images, test_labels) = mnist.load_data()\n",
        "training_images=training_images/1.0 # Experiment with removing this line\n",
        "test_images=test_images/1.0 # Experiment with removing this line\n",
        "model = tf.keras.models.Sequential([\n",
        "  tf.keras.layers.Flatten(),\n",
        "  tf.keras.layers.Dense(512, activation=tf.nn.relu),\n",
        "  tf.keras.layers.Dense(10, activation=tf.nn.softmax)\n",
        "])\n",
        "model.compile(optimizer='adam', loss='sparse_categorical_crossentropy')\n",
        "model.fit(training_images, training_labels, epochs=5)\n",
        "model.evaluate(test_images, test_labels)\n",
        "classifications = model.predict(test_images)\n",
        "print(classifications[0])\n",
        "print(test_labels[0])"
      ],
      "execution_count": 40,
      "outputs": [
        {
          "output_type": "stream",
          "name": "stdout",
          "text": [
            "Epoch 1/5\n",
            "1875/1875 [==============================] - 9s 4ms/step - loss: 2.5092\n",
            "Epoch 2/5\n",
            "1875/1875 [==============================] - 8s 4ms/step - loss: 0.3577\n",
            "Epoch 3/5\n",
            "1875/1875 [==============================] - 8s 4ms/step - loss: 0.2891\n",
            "Epoch 4/5\n",
            "1875/1875 [==============================] - 8s 4ms/step - loss: 0.2598\n",
            "Epoch 5/5\n",
            "1875/1875 [==============================] - 8s 4ms/step - loss: 0.2577\n",
            "313/313 [==============================] - 1s 2ms/step - loss: 0.3729\n",
            "[2.6048306e-28 1.1438990e-12 2.8501483e-07 5.7111781e-12 1.8998739e-24 3.9004411e-11 6.1677864e-29 9.9999976e-01 1.6935807e-20 1.5605959e-12]\n",
            "7\n"
          ]
        }
      ]
    },
    {
      "cell_type": "markdown",
      "metadata": {
        "id": "yWrnCVNdC4nL"
      },
      "source": [
        "Exercise 8\n",
        "\n",
        "---\n",
        "\n",
        "Earlier when you trained for extra epochs you had an issue where your loss might change. It might have taken a bit of time for you to wait for the training to do that, and you might have thought 'wouldn't it be nice if I could stop the training when I reach a desired value?' -- i.e. 95% accuracy might be enough for you, and if you reach that after 3 epochs, why sit around waiting for it to finish a lot more epochs....So how would you fix that? Like any other program...you have callbacks! Let's see them in action..."
      ]
    },
    {
      "cell_type": "code",
      "metadata": {
        "colab": {
          "base_uri": "https://localhost:8080/"
        },
        "id": "ImZ_C2BhC9xu",
        "outputId": "4bed588e-8ffd-40ce-eb5f-46869383b1a8"
      },
      "source": [
        "class myCallback(tf.keras.callbacks.Callback):\n",
        "  def on_epoch_end(self, epoch, logs={}):\n",
        "    if(logs.get('accuracy') >= 0.9): # Experiment with changing this value\n",
        "      print(\"\\nReached 60% accuracy so cancelling training!\")\n",
        "      self.model.stop_training = True\n",
        "\n",
        "callbacks = myCallback()\n",
        "mnist = tf.keras.datasets.fashion_mnist\n",
        "(training_images, training_labels), (test_images, test_labels) = mnist.load_data()\n",
        "training_images=training_images/255.0\n",
        "test_images=test_images/255.0\n",
        "model = tf.keras.models.Sequential([\n",
        "  tf.keras.layers.Flatten(),\n",
        "  tf.keras.layers.Dense(512, activation=tf.nn.relu),\n",
        "  tf.keras.layers.Dense(10, activation=tf.nn.softmax)\n",
        "])\n",
        "model.compile(optimizer='adam', loss='sparse_categorical_crossentropy', metrics=['accuracy'])\n",
        "model.fit(training_images, training_labels, epochs=5, callbacks=[callbacks])"
      ],
      "execution_count": 42,
      "outputs": [
        {
          "output_type": "stream",
          "name": "stdout",
          "text": [
            "Epoch 1/5\n",
            "1875/1875 [==============================] - 9s 4ms/step - loss: 0.4739 - accuracy: 0.8301\n",
            "Epoch 2/5\n",
            "1875/1875 [==============================] - 8s 4ms/step - loss: 0.3576 - accuracy: 0.8699\n",
            "Epoch 3/5\n",
            "1875/1875 [==============================] - 8s 4ms/step - loss: 0.3225 - accuracy: 0.8827\n",
            "Epoch 4/5\n",
            "1875/1875 [==============================] - 8s 4ms/step - loss: 0.2977 - accuracy: 0.8902\n",
            "Epoch 5/5\n",
            "1875/1875 [==============================] - 8s 4ms/step - loss: 0.2793 - accuracy: 0.8956\n"
          ]
        },
        {
          "output_type": "execute_result",
          "data": {
            "text/plain": [
              "<tensorflow.python.keras.callbacks.History at 0x7f137d3cd410>"
            ]
          },
          "metadata": {},
          "execution_count": 42
        }
      ]
    }
  ]
}